{
 "cells": [
  {
   "cell_type": "code",
   "execution_count": 6,
   "metadata": {},
   "outputs": [],
   "source": [
    "source(\"siegel.tukey.r\", local = TRUE)\n",
    "\n",
    "tester <- function(AutoML, Human, trsh) {\n",
    "    res = c()\n",
    "    cat(\"Mean\\n\")\n",
    "    # can't use alternative\n",
    "    test = kruskal.test(list(AutoML, Human))\n",
    "    p_val = test$p.value\n",
    "    res['non-parametric mean p-value'] = p_val\n",
    "    cat('P value', p_val, '\\n')\n",
    "    if (p_val < trsh) {\n",
    "        cat('TEST PASSED\\n')\n",
    "    } else {\n",
    "        cat('TEST FAILED\\n')\n",
    "    }\n",
    "    \n",
    "    cat(\"Variance\\n\")\n",
    "    \n",
    "    test = siegel.tukey(x = AutoML, y = Human, alternative = \"less\")\n",
    "    p_val = test$p.value\n",
    "    res['non-parametric var p-value'] = p_val\n",
    "    cat('P value', p_val, '\\n')\n",
    "    if (p_val < trsh) {\n",
    "        cat('TEST PASSED\\n')\n",
    "    } else {\n",
    "        cat('TEST FAILED\\n')\n",
    "    }\n",
    "    return(res)\n",
    "}"
   ]
  },
  {
   "cell_type": "markdown",
   "metadata": {},
   "source": [
    "Testing following hypotheses:\n",
    "\n",
    "1) Means for LightAutoML significantly bigger than DS's one\n",
    "\n",
    "2) Variances for LightAutoMLsignificantly less than DS's one"
   ]
  },
  {
   "cell_type": "code",
   "execution_count": 4,
   "metadata": {},
   "outputs": [],
   "source": [
    "df =  read.csv(file=\"NextHack.csv\", header=TRUE, sep=\",\")\n",
    "\n",
    "df1 = df[df[['user_id_fixed']] == 'AutoML', ]\n",
    "df2 = df[df[['user_id_fixed']] == 'Human', ]\n",
    "\n",
    "top10 = df2$score[df2$score > quantile(df2$score, 0.9)]\n",
    "bottom90 = df2$score[df2$score < quantile(df2$score, 0.9)]"
   ]
  },
  {
   "cell_type": "code",
   "execution_count": 7,
   "metadata": {},
   "outputs": [
    {
     "name": "stdout",
     "output_type": "stream",
     "text": [
      "TEST on mean and var for NextHack\n",
      "Mean\n",
      "P value 0.001736775 \n",
      "TEST PASSED\n",
      "Variance\n",
      "P value 0.06262488 \n",
      "TEST FAILED\n"
     ]
    },
    {
     "data": {
      "text/html": [
       "<dl class=dl-horizontal>\n",
       "\t<dt>non-parametric mean p-value</dt>\n",
       "\t\t<dd>0.00173677540206635</dd>\n",
       "\t<dt>non-parametric var p-value</dt>\n",
       "\t\t<dd>0.0626248792937539</dd>\n",
       "</dl>\n"
      ],
      "text/latex": [
       "\\begin{description*}\n",
       "\\item[non-parametric mean p-value] 0.00173677540206635\n",
       "\\item[non-parametric var p-value] 0.0626248792937539\n",
       "\\end{description*}\n"
      ],
      "text/markdown": [
       "non-parametric mean p-value\n",
       ":   0.00173677540206635non-parametric var p-value\n",
       ":   0.0626248792937539\n",
       "\n"
      ],
      "text/plain": [
       "non-parametric mean p-value  non-parametric var p-value \n",
       "                0.001736775                 0.062624879 "
      ]
     },
     "metadata": {},
     "output_type": "display_data"
    }
   ],
   "source": [
    "cat('TEST on mean and var for NextHack\\n')\n",
    "tester(df1$score, df2$score, 0.05)"
   ]
  },
  {
   "cell_type": "code",
   "execution_count": 8,
   "metadata": {},
   "outputs": [
    {
     "name": "stdout",
     "output_type": "stream",
     "text": [
      "TEST on mean and var for NextHack on 10% of the best\n",
      "Mean\n",
      "P value 0.3138562 \n",
      "TEST FAILED\n",
      "Variance\n",
      "P value 0.0109632 \n",
      "TEST PASSED\n"
     ]
    },
    {
     "data": {
      "text/html": [
       "<dl class=dl-horizontal>\n",
       "\t<dt>non-parametric mean p-value</dt>\n",
       "\t\t<dd>0.313856171227657</dd>\n",
       "\t<dt>non-parametric var p-value</dt>\n",
       "\t\t<dd>0.0109631969656665</dd>\n",
       "</dl>\n"
      ],
      "text/latex": [
       "\\begin{description*}\n",
       "\\item[non-parametric mean p-value] 0.313856171227657\n",
       "\\item[non-parametric var p-value] 0.0109631969656665\n",
       "\\end{description*}\n"
      ],
      "text/markdown": [
       "non-parametric mean p-value\n",
       ":   0.313856171227657non-parametric var p-value\n",
       ":   0.0109631969656665\n",
       "\n"
      ],
      "text/plain": [
       "non-parametric mean p-value  non-parametric var p-value \n",
       "                  0.3138562                   0.0109632 "
      ]
     },
     "metadata": {},
     "output_type": "display_data"
    }
   ],
   "source": [
    "cat('TEST on mean and var for NextHack on 10% of the best\\n')\n",
    "tester(df1$score, top10, 0.05)"
   ]
  },
  {
   "cell_type": "code",
   "execution_count": 9,
   "metadata": {},
   "outputs": [
    {
     "name": "stdout",
     "output_type": "stream",
     "text": [
      "TEST on mean and var for NextHack on 90% of the worth\n",
      "Mean\n",
      "P value 0.0007651063 \n",
      "TEST PASSED\n",
      "Variance\n",
      "P value 0.01530183 \n",
      "TEST PASSED\n"
     ]
    },
    {
     "data": {
      "text/html": [
       "<dl class=dl-horizontal>\n",
       "\t<dt>non-parametric mean p-value</dt>\n",
       "\t\t<dd>0.000765106295515477</dd>\n",
       "\t<dt>non-parametric var p-value</dt>\n",
       "\t\t<dd>0.0153018341541041</dd>\n",
       "</dl>\n"
      ],
      "text/latex": [
       "\\begin{description*}\n",
       "\\item[non-parametric mean p-value] 0.000765106295515477\n",
       "\\item[non-parametric var p-value] 0.0153018341541041\n",
       "\\end{description*}\n"
      ],
      "text/markdown": [
       "non-parametric mean p-value\n",
       ":   0.000765106295515477non-parametric var p-value\n",
       ":   0.0153018341541041\n",
       "\n"
      ],
      "text/plain": [
       "non-parametric mean p-value  non-parametric var p-value \n",
       "               0.0007651063                0.0153018342 "
      ]
     },
     "metadata": {},
     "output_type": "display_data"
    }
   ],
   "source": [
    "cat('TEST on mean and var for NextHack on 90% of the worth\\n')\n",
    "tester(df1$score, bottom90, 0.05)"
   ]
  }
 ],
 "metadata": {
  "kernelspec": {
   "display_name": "R",
   "language": "R",
   "name": "ir"
  },
  "language_info": {
   "codemirror_mode": "r",
   "file_extension": ".r",
   "mimetype": "text/x-r-source",
   "name": "R",
   "pygments_lexer": "r",
   "version": "3.6.1"
  }
 },
 "nbformat": 4,
 "nbformat_minor": 2
}
